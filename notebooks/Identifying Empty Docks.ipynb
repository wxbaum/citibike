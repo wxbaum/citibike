{
 "cells": [
  {
   "cell_type": "markdown",
   "metadata": {},
   "source": [
    "# Identifying Empty Citibike Docks\n",
    "\n",
    "Ultimately, the goal behind this Citibike project work is to create \n",
    "insightful analyses around the Citibike system. I'd also like to use the \n",
    "results of the analyses to build some novel predictive models. There are \n",
    "plenty of \"gotchas\" with these data and potential analyses, and I'm going\n",
    "to address the major ones in their own notebooks. \n",
    "\n",
    "In this particular notebook, we address the issue of discerning what a \n",
    "lack of rides originating from a given station really means. \n",
    "\n",
    "The data only contains information about individual rides, not the \n",
    "availability of bikes at a station. Zero rides originating from a station \n",
    "in a certain time period can mean one of two things:\n",
    "* There is no demand for bikes from the station. \n",
    "* There is such high demand for bikes that station is empty.  \n",
    "\n",
    "The latter situation poses a particular issue for any kind of demand \n",
    "model, as the actual ridership data does not reflect the number of people\n",
    "who would have started a ride had a bike been available to them.\n",
    "\n",
    "Furthermore, knowing which stations frequently run out of bikes is useful \n",
    "in terms of knowing where to expand stations, build new ones, or when and\n",
    "how to stage resupply runs from other areas. "
   ]
  },
  {
   "cell_type": "markdown",
   "metadata": {},
   "source": [
    "## Setup\n",
    "Module imports and notebook setup. "
   ]
  },
  {
   "cell_type": "code",
   "execution_count": 40,
   "metadata": {},
   "outputs": [],
   "source": [
    "from datetime import timedelta\n",
    "import os\n",
    "import pandas as pd"
   ]
  },
  {
   "cell_type": "markdown",
   "metadata": {},
   "source": [
    "## Getting the Data\n",
    "If you want to run all this yourself and haven't run through the Citibike\n",
    "Data Pull notebook, you should do so now.\n",
    "\n",
    "Our data is stored in /data as monthly .parquet files containing \"fact \n",
    "tables\" of ridership data. /data also contains the relevant \"dimension\n",
    "tables\" that can join to the ridership data. It was done this way to \n",
    "significantly reduce the size of the data such that we can access larger\n",
    "time frames and do more useful research. \n",
    "\n",
    "Let's start by reading our dimension tables into the notebook. "
   ]
  },
  {
   "cell_type": "markdown",
   "metadata": {},
   "source": [
    "### Stations\n",
    "These are the docks for the bikes. Each station has an ID, a cross street, \n",
    "and a lat/long."
   ]
  },
  {
   "cell_type": "code",
   "execution_count": 15,
   "metadata": {},
   "outputs": [
    {
     "data": {
      "text/html": [
       "<div>\n",
       "<style scoped>\n",
       "    .dataframe tbody tr th:only-of-type {\n",
       "        vertical-align: middle;\n",
       "    }\n",
       "\n",
       "    .dataframe tbody tr th {\n",
       "        vertical-align: top;\n",
       "    }\n",
       "\n",
       "    .dataframe thead th {\n",
       "        text-align: right;\n",
       "    }\n",
       "</style>\n",
       "<table border=\"1\" class=\"dataframe\">\n",
       "  <thead>\n",
       "    <tr style=\"text-align: right;\">\n",
       "      <th></th>\n",
       "      <th>int_station_id</th>\n",
       "      <th>station_id</th>\n",
       "      <th>station_name</th>\n",
       "      <th>lat</th>\n",
       "      <th>lng</th>\n",
       "    </tr>\n",
       "  </thead>\n",
       "  <tbody>\n",
       "    <tr>\n",
       "      <th>0</th>\n",
       "      <td>0</td>\n",
       "      <td>6283.05</td>\n",
       "      <td>48 St &amp; Skillman Ave</td>\n",
       "      <td>40.746155</td>\n",
       "      <td>-73.916191</td>\n",
       "    </tr>\n",
       "    <tr>\n",
       "      <th>1</th>\n",
       "      <td>1</td>\n",
       "      <td>5105.01</td>\n",
       "      <td>Liberty St &amp; Broadway</td>\n",
       "      <td>40.708858</td>\n",
       "      <td>-74.010231</td>\n",
       "    </tr>\n",
       "    <tr>\n",
       "      <th>2</th>\n",
       "      <td>2</td>\n",
       "      <td>6809.07</td>\n",
       "      <td>W 56 St &amp; 6 Ave</td>\n",
       "      <td>40.763405</td>\n",
       "      <td>-73.977226</td>\n",
       "    </tr>\n",
       "  </tbody>\n",
       "</table>\n",
       "</div>"
      ],
      "text/plain": [
       "   int_station_id station_id           station_name        lat        lng\n",
       "0               0    6283.05   48 St & Skillman Ave  40.746155 -73.916191\n",
       "1               1    5105.01  Liberty St & Broadway  40.708858 -74.010231\n",
       "2               2    6809.07        W 56 St & 6 Ave  40.763405 -73.977226"
      ]
     },
     "execution_count": 15,
     "metadata": {},
     "output_type": "execute_result"
    }
   ],
   "source": [
    "stations = pd.read_parquet(os.path.join('../data/stations.parquet'))\n",
    "stations.head(3)"
   ]
  },
  {
   "cell_type": "markdown",
   "metadata": {},
   "source": [
    "### Rideable Types\n",
    "These are the different kinds of bikes. Currently that's limited to \n",
    "electric (pedal assisted) and classic (regular) bikes. "
   ]
  },
  {
   "cell_type": "code",
   "execution_count": 16,
   "metadata": {},
   "outputs": [
    {
     "data": {
      "text/html": [
       "<div>\n",
       "<style scoped>\n",
       "    .dataframe tbody tr th:only-of-type {\n",
       "        vertical-align: middle;\n",
       "    }\n",
       "\n",
       "    .dataframe tbody tr th {\n",
       "        vertical-align: top;\n",
       "    }\n",
       "\n",
       "    .dataframe thead th {\n",
       "        text-align: right;\n",
       "    }\n",
       "</style>\n",
       "<table border=\"1\" class=\"dataframe\">\n",
       "  <thead>\n",
       "    <tr style=\"text-align: right;\">\n",
       "      <th></th>\n",
       "      <th>rideable_id</th>\n",
       "      <th>rideable_type</th>\n",
       "    </tr>\n",
       "  </thead>\n",
       "  <tbody>\n",
       "    <tr>\n",
       "      <th>0</th>\n",
       "      <td>0</td>\n",
       "      <td>electric_bike</td>\n",
       "    </tr>\n",
       "    <tr>\n",
       "      <th>1</th>\n",
       "      <td>1</td>\n",
       "      <td>classic_bike</td>\n",
       "    </tr>\n",
       "  </tbody>\n",
       "</table>\n",
       "</div>"
      ],
      "text/plain": [
       "   rideable_id  rideable_type\n",
       "0            0  electric_bike\n",
       "1            1   classic_bike"
      ]
     },
     "execution_count": 16,
     "metadata": {},
     "output_type": "execute_result"
    }
   ],
   "source": [
    "rideables = pd.read_parquet(os.path.join('../data/rideable_types.parquet'))\n",
    "rideables.head(3)"
   ]
  },
  {
   "cell_type": "markdown",
   "metadata": {},
   "source": [
    "### Membership Types\n",
    "These are the kinds of rider \"memberships\" available. Basically this \n",
    "denotes whether a rider has a monthly subscription to the Citibike \n",
    "service or if they're riding on a \"casual\" pay-as-you-go basis. "
   ]
  },
  {
   "cell_type": "code",
   "execution_count": 17,
   "metadata": {},
   "outputs": [
    {
     "data": {
      "text/html": [
       "<div>\n",
       "<style scoped>\n",
       "    .dataframe tbody tr th:only-of-type {\n",
       "        vertical-align: middle;\n",
       "    }\n",
       "\n",
       "    .dataframe tbody tr th {\n",
       "        vertical-align: top;\n",
       "    }\n",
       "\n",
       "    .dataframe thead th {\n",
       "        text-align: right;\n",
       "    }\n",
       "</style>\n",
       "<table border=\"1\" class=\"dataframe\">\n",
       "  <thead>\n",
       "    <tr style=\"text-align: right;\">\n",
       "      <th></th>\n",
       "      <th>membership_id</th>\n",
       "      <th>membership_type</th>\n",
       "    </tr>\n",
       "  </thead>\n",
       "  <tbody>\n",
       "    <tr>\n",
       "      <th>0</th>\n",
       "      <td>0</td>\n",
       "      <td>member</td>\n",
       "    </tr>\n",
       "    <tr>\n",
       "      <th>1</th>\n",
       "      <td>1</td>\n",
       "      <td>casual</td>\n",
       "    </tr>\n",
       "  </tbody>\n",
       "</table>\n",
       "</div>"
      ],
      "text/plain": [
       "   membership_id membership_type\n",
       "0              0          member\n",
       "1              1          casual"
      ]
     },
     "execution_count": 17,
     "metadata": {},
     "output_type": "execute_result"
    }
   ],
   "source": [
    "membership_types = pd.read_parquet(os.path.join('../data/membership_types.parquet'))\n",
    "membership_types.head(3)"
   ]
  },
  {
   "cell_type": "markdown",
   "metadata": {},
   "source": [
    "### Ride Data\n",
    "Now let's look at a sample of our fact table formatted ride data. "
   ]
  },
  {
   "cell_type": "code",
   "execution_count": 27,
   "metadata": {},
   "outputs": [
    {
     "data": {
      "text/html": [
       "<div>\n",
       "<style scoped>\n",
       "    .dataframe tbody tr th:only-of-type {\n",
       "        vertical-align: middle;\n",
       "    }\n",
       "\n",
       "    .dataframe tbody tr th {\n",
       "        vertical-align: top;\n",
       "    }\n",
       "\n",
       "    .dataframe thead th {\n",
       "        text-align: right;\n",
       "    }\n",
       "</style>\n",
       "<table border=\"1\" class=\"dataframe\">\n",
       "  <thead>\n",
       "    <tr style=\"text-align: right;\">\n",
       "      <th></th>\n",
       "      <th>ride_id</th>\n",
       "      <th>started_at</th>\n",
       "      <th>start_station_id</th>\n",
       "      <th>end_station_id</th>\n",
       "      <th>rideable_id</th>\n",
       "      <th>membership_id</th>\n",
       "      <th>trip_duration</th>\n",
       "    </tr>\n",
       "  </thead>\n",
       "  <tbody>\n",
       "    <tr>\n",
       "      <th>0</th>\n",
       "      <td>0FC89A53DF9D7E90</td>\n",
       "      <td>2024-03-07 19:49:43</td>\n",
       "      <td>0</td>\n",
       "      <td>70</td>\n",
       "      <td>0</td>\n",
       "      <td>0</td>\n",
       "      <td>1850</td>\n",
       "    </tr>\n",
       "    <tr>\n",
       "      <th>1</th>\n",
       "      <td>0FF38F5D1277746B</td>\n",
       "      <td>2024-03-15 17:45:30</td>\n",
       "      <td>1</td>\n",
       "      <td>68</td>\n",
       "      <td>0</td>\n",
       "      <td>0</td>\n",
       "      <td>609</td>\n",
       "    </tr>\n",
       "    <tr>\n",
       "      <th>2</th>\n",
       "      <td>DE040AD144FB0BFA</td>\n",
       "      <td>2024-03-19 18:00:52</td>\n",
       "      <td>2</td>\n",
       "      <td>65</td>\n",
       "      <td>0</td>\n",
       "      <td>0</td>\n",
       "      <td>394</td>\n",
       "    </tr>\n",
       "  </tbody>\n",
       "</table>\n",
       "</div>"
      ],
      "text/plain": [
       "            ride_id           started_at  start_station_id  end_station_id  \\\n",
       "0  0FC89A53DF9D7E90  2024-03-07 19:49:43                 0              70   \n",
       "1  0FF38F5D1277746B  2024-03-15 17:45:30                 1              68   \n",
       "2  DE040AD144FB0BFA  2024-03-19 18:00:52                 2              65   \n",
       "\n",
       "   rideable_id  membership_id  trip_duration  \n",
       "0            0              0           1850  \n",
       "1            0              0            609  \n",
       "2            0              0            394  "
      ]
     },
     "execution_count": 27,
     "metadata": {},
     "output_type": "execute_result"
    }
   ],
   "source": [
    "# All the ride files start with a yyyy or yyyymm before an underscore\n",
    "# We can extract those filenames from the data folder\n",
    "ride_filepaths = [f for f in os.listdir('../data') if f.split('_')[0].isnumeric()]\n",
    "\n",
    "# Concat ride files into a single dataframe\n",
    "rides = pd.DataFrame()\n",
    "for path in ride_filepaths:\n",
    "    rides = pd.concat([rides, pd.read_parquet(f'../data/{path}')])\n",
    "\n",
    "rides.head(3)"
   ]
  },
  {
   "cell_type": "markdown",
   "metadata": {},
   "source": [
    "## Identifying Empty Docks\n",
    "\n",
    "This might seem reasonably straightforward at first glance. We could \n",
    "loop through undocking/docking events "
   ]
  },
  {
   "cell_type": "code",
   "execution_count": 58,
   "metadata": {},
   "outputs": [
    {
     "name": "stderr",
     "output_type": "stream",
     "text": [
      "/var/folders/yb/nf2crlgx1kdgc_cpn2rkwzfm0000gn/T/ipykernel_27271/2251594316.py:12: SettingWithCopyWarning: \n",
      "A value is trying to be set on a copy of a slice from a DataFrame.\n",
      "Try using .loc[row_indexer,col_indexer] = value instead\n",
      "\n",
      "See the caveats in the documentation: https://pandas.pydata.org/pandas-docs/stable/user_guide/indexing.html#returning-a-view-versus-a-copy\n",
      "  station_events.loc[:, 'ended_at'] = [dt + timedelta(seconds=dur) for dt, dur in zip(station_events['started_at'], station_events['trip_duration'])]\n"
     ]
    },
    {
     "data": {
      "text/plain": [
       "2741"
      ]
     },
     "execution_count": 58,
     "metadata": {},
     "output_type": "execute_result"
    }
   ],
   "source": [
    "def get_dock_capacity(rides:pd.DataFrame, station_id:int) -> int:\n",
    "    \"\"\"\n",
    "    Calculates the maximum capacity of a Citibike dock.\n",
    "\n",
    "    Args:\n",
    "        rides DataFrame: Individual rides data. \n",
    "        station_id int: Station to figure out the max capacity for. \n",
    "    \"\"\"\n",
    "    # Add docking time to the rides data\n",
    "    station_events = rides.loc[(rides['start_station_id'] == station_id) | (rides['end_station_id'] == station_id)]\n",
    "    station_events.loc[:, 'started_at'] = pd.to_datetime(station_events['started_at'])\n",
    "    station_events.loc[:, 'ended_at'] = [dt + timedelta(seconds=dur) for dt, dur in zip(station_events['started_at'], station_events['trip_duration'])]\n",
    "\n",
    "    # Get undock events \n",
    "    undock_events = station_events.loc[station_events['start_station_id'] == station_id][['started_at']]\n",
    "    undock_events = undock_events.rename(columns={'started_at': 'dt'})\n",
    "    undock_events.loc[:, 'action'] = 'undock'\n",
    "    # Get dock events\n",
    "    dock_events = station_events.loc[station_events['end_station_id'] == station_id][['ended_at']]\n",
    "    dock_events = dock_events.rename(columns={'ended_at': 'dt'})\n",
    "    dock_events.loc[:, 'action'] = 'dock'\n",
    "\n",
    "    station_events = pd.concat([undock_events, dock_events])\n",
    "    station_events = station_events.sort_values('dt')\n",
    "\n",
    "    min_docked_bikes = 0\n",
    "    max_docked_bikes = 0\n",
    "    current_docked_bikes = 0\n",
    "\n",
    "    for dt, action in station_events.to_records(index=False):\n",
    "        if action == 'dock':\n",
    "            current_docked_bikes += 1\n",
    "        elif action == 'undock':\n",
    "            current_docked_bikes -= 1\n",
    "\n",
    "        min_docked_bikes = min(min_docked_bikes, current_docked_bikes)\n",
    "        max_docked_bikes = max(max_docked_bikes, current_docked_bikes)\n",
    "\n",
    "\n",
    "    return current_docked_bikes\n",
    "\n",
    "\n",
    "output = get_dock_capacity(rides, 0)\n",
    "output\n"
   ]
  },
  {
   "cell_type": "code",
   "execution_count": null,
   "metadata": {},
   "outputs": [],
   "source": []
  },
  {
   "cell_type": "code",
   "execution_count": null,
   "metadata": {},
   "outputs": [],
   "source": []
  }
 ],
 "metadata": {
  "kernelspec": {
   "display_name": "citibike",
   "language": "python",
   "name": "python3"
  },
  "language_info": {
   "codemirror_mode": {
    "name": "ipython",
    "version": 3
   },
   "file_extension": ".py",
   "mimetype": "text/x-python",
   "name": "python",
   "nbconvert_exporter": "python",
   "pygments_lexer": "ipython3",
   "version": "3.10.9"
  }
 },
 "nbformat": 4,
 "nbformat_minor": 2
}
